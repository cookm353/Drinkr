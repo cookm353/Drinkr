{
 "cells": [
  {
   "cell_type": "markdown",
   "metadata": {},
   "source": [
    "# Capstone Project Overview\n",
    "\n",
    "### General Overview\n",
    "\n",
    "- Build a DB-driven website off an API of your choice\n",
    "- This will be a key part of your portfolio\n",
    "- Pick something challenging that'll tie in all of the back-end skills and some of the front-end skills\n",
    "- Don't need to make something that's never been done before, can potentially create a website similar to one that already exists, or use a popular API\n",
    "- Should have more than basic CRUD\n",
    "- Better to err on the side of simple and boring than a complex project with a lot of moving parts\n",
    "\n",
    "### Guidelines\n",
    "\n",
    "1. Use Flask, Postgres, SQLAlchemy, a hosting platform (Railway, etc.), Jinja, RESTful APIs, JS, HTML, CSS, and potentially WTForms\n",
    "2. Each step will have submissions\n",
    "   - Mentor will evaluate your work as you submit it\n",
    "   - Make sure you submit the right thing\n",
    "   - Will need to link to repo several times\n",
    "3. First two steps require mentor approval, but after that you're free to keep working on it\n",
    "4. If you get stuck, you've got Google, StackOverflow, Slack, TAs, mentor, etc.\n",
    "5. Use a free API and deploy the project on Railway or another service"
   ]
  },
  {
   "cell_type": "markdown",
   "metadata": {},
   "source": [
    "## Step 1: Initial Project Ideas\n",
    "\n",
    "- First step is to brainstorm the kinds of sites you'd like to build and explore APIs\n",
    "- APIs\n",
    "  - You won't need to finalize the API you'll use until step 3\n",
    "  - Explore APIs to get a sense of what kind of data you can use\n",
    "  - Restrict APIs to free ones\n",
    "  - Check [this site](https://apilist.fun/) to get started\n",
    "- Initial Project Ideas\n",
    "  - Come up with 3 project ideas for sites to make\n",
    "  - These should be ones you're interested in working on that aren't too complex\n",
    "  - The project should take 45-65 hours\n",
    "- Submitting Ideas\n",
    "  - Make a Google doc labeled \"Capstone Ideas [M Cook]\"\n",
    "  - Write short blurb explaining each idea\n",
    "    - Highlight idea you most want to work on\n",
    "    - Should describe problem and data you'll use to solve it\n",
    "    - Don't worry about covering the specific tools and technologies you'll use\n",
    "  - Post the blurb, with a title, to the Slack to get some feedback\n",
    "  - Submit ideas for mentor to review and work with them to narrow down"
   ]
  },
  {
   "cell_type": "markdown",
   "metadata": {},
   "source": [
    "## Step 2: Project Proposal\n",
    "\n",
    "- Proposal should be a 1-2 page document that answers the following questions:\n",
    "  1. What goal will your website achieve?\n",
    "  2. What kind of users will your site attract?  What's their demographic?\n",
    "  3. What data will you use?  You probably won't have an API picked yet, but outline the kind of data you'd like it to have\n",
    "  4. Briefly outline approach to creating project (you probably won't know everything in advance and details will be liable to change.  This is fine.)  Answer the following questions:\n",
    "     1. What does your DB schema look like\n",
    "     2. What issues might you run into with the API\n",
    "     3. Is there any sensitive info you may need to secure?\n",
    "     4. What functionality will the app include?\n",
    "     5. What will the user flow look like?\n",
    "     6. What features will make the site more than just a CRUD app?  Do you have any stretch goals?\n",
    "- Make a Github repo for the capstone project and label it accordingly\n",
    "  - All code and documentation should be add to the repo"
   ]
  },
  {
   "cell_type": "markdown",
   "metadata": {},
   "source": [
    "## Step 3: Schema Design and API Selection"
   ]
  },
  {
   "cell_type": "markdown",
   "metadata": {},
   "source": [
    "## Step 4: Coding User Flows"
   ]
  },
  {
   "cell_type": "markdown",
   "metadata": {},
   "source": [
    "## Step 5: Polishing Your APP"
   ]
  },
  {
   "cell_type": "markdown",
   "metadata": {},
   "source": [
    "## Step 6: Documenting and Submission"
   ]
  }
 ],
 "metadata": {
  "kernelspec": {
   "display_name": "Python 3.10.6 64-bit",
   "language": "python",
   "name": "python3"
  },
  "language_info": {
   "name": "python",
   "version": "3.10.6"
  },
  "orig_nbformat": 4,
  "vscode": {
   "interpreter": {
    "hash": "916dbcbb3f70747c44a77c7bcd40155683ae19c65e1c03b4aa3499c5328201f1"
   }
  }
 },
 "nbformat": 4,
 "nbformat_minor": 2
}
