{
 "cells": [
  {
   "cell_type": "markdown",
   "metadata": {},
   "source": [
    "# Capstone Project Overview\n",
    "\n",
    "### General Overview\n",
    "\n",
    "- Build a DB-driven website off an API of your choice\n",
    "- This will be a key part of your portfolio\n",
    "- Pick something challenging that'll tie in all of the back-end skills and some of the front-end skills\n",
    "- Don't need to make something that's never been done before, can potentially create a website similar to one that already exists, or use a popular API\n",
    "- Should have more than basic CRUD\n",
    "- Better to err on the side of simple and boring than a complex project with a lot of moving parts\n",
    "\n",
    "### Guidelines\n",
    "\n",
    "1. Use Flask, Postgres, SQLAlchemy, a hosting platform (Railway, etc.), Jinja, RESTful APIs, JS, HTML, CSS, and potentially WTForms\n",
    "2. Each step will have submissions\n",
    "   - Mentor will evaluate your work as you submit it\n",
    "   - Make sure you submit the right thing\n",
    "   - Will need to link to repo several times\n",
    "3. First two steps require mentor approval, but after that you're free to keep working on it\n",
    "4. If you get stuck, you've got Google, StackOverflow, Slack, TAs, mentor, etc.\n",
    "5. Use a free API and deploy the project on Railway or another service"
   ]
  },
  {
   "cell_type": "markdown",
   "metadata": {},
   "source": [
    "## Step 1: Initial Project Ideas\n",
    "\n",
    "- First step is to brainstorm the kinds of sites you'd like to build and explore APIs\n",
    "- APIs\n",
    "  - You won't need to finalize the API you'll use until step 3\n",
    "  - Explore APIs to get a sense of what kind of data you can use\n",
    "  - Restrict APIs to free ones\n",
    "  - Check [this site](https://apilist.fun/) to get started\n",
    "- Initial Project Ideas\n",
    "  - Come up with 3 project ideas for sites to make\n",
    "  - These should be ones you're interested in working on that aren't too complex\n",
    "  - The project should take 45-65 hours\n",
    "- Submitting Ideas\n",
    "  - Make a Google doc labeled \"Capstone Ideas [M Cook]\"\n",
    "  - Write short blurb explaining each idea\n",
    "    - Highlight idea you most want to work on\n",
    "    - Should describe problem and data you'll use to solve it\n",
    "    - Don't worry about covering the specific tools and technologies you'll use\n",
    "  - Post the blurb, with a title, to the Slack to get some feedback\n",
    "  - Submit ideas for mentor to review and work with them to narrow down"
   ]
  },
  {
   "cell_type": "markdown",
   "metadata": {},
   "source": [
    "## Step 2: Project Proposal\n",
    "\n",
    "- Proposal should be a 1-2 page document that answers the following questions:\n",
    "  1. What goal will your website achieve?\n",
    "  2. What kind of users will your site attract?  What's their demographic?\n",
    "  3. What data will you use?  You probably won't have an API picked yet, but outline the kind of data you'd like it to have\n",
    "  4. Briefly outline approach to creating project (you probably won't know everything in advance and details will be liable to change.  This is fine.)  Answer the following questions:\n",
    "     1. What does your DB schema look like\n",
    "     2. What issues might you run into with the API\n",
    "     3. Is there any sensitive info you may need to secure?\n",
    "     4. What functionality will the app include?\n",
    "     5. What will the user flow look like?\n",
    "     6. What features will make the site more than just a CRUD app?  Do you have any stretch goals?\n",
    "- Make a Github repo for the capstone project and label it accordingly\n",
    "  - All code and documentation should be add to the repo\n",
    "- After adding proposal, submit a link for the repo to your mentor to review\n",
    "- After mentor has approved, share the GitHub repo URL on Slack and ask for feedback"
   ]
  },
  {
   "cell_type": "markdown",
   "metadata": {},
   "source": [
    "## Step 3: Schema Design and API Selection\n",
    "\n",
    "- If you haven't picked an API...\n",
    "  - Make sure it's one that's free to access\n",
    "  - It's better to pick a JSON API, but you can use an XML based one\n",
    "  - Look for an API that will contain easy to use data\n",
    "- After picking an API...\n",
    "  - Familiarize yourself with the data it holds\n",
    "  - Look how the data is formatted and check if it's returned in JSON or XML\n",
    "  - Think about the data you'll need for the site and what data in the API may be unneeded\n",
    "  - Will you need to do any data cleaning?\n",
    "- Designing the Schema\n",
    "  - Think how to design the tables in your DB based on the API and any other data you may be storing (e.g. login info)\n",
    "  - What will be the primary and foreign keys?  Which tables will be related to each other?  What will the relationships be?\n",
    "  - Make an ERD using crow's foot notation\n",
    "  - After deciding the columns and their data types, tables and relationships, primary and foreign keys, and constraints, upload a text file or diagram and upload it\n",
    "- Submitting Work\n",
    "  - Add schema files to GitHub repo\n",
    "  - Add a link to the API to README.md\n",
    "  - Submit the link for your repo to your mentor so they can review the schema.  You don't need approval to keep working on the project, but they'll likely have advice on how to improve it"
   ]
  },
  {
   "cell_type": "markdown",
   "metadata": {},
   "source": [
    "## Step 4: Coding User Flows\n",
    "\n",
    "- Time to get coding!\n",
    "- There aren't any hard and fast rules, but consider these as you progress\n",
    "  - Set up your DB and fetch the API data for it\n",
    "  - Make sure Flask's environment is set to development\n",
    "  - Import Flask and SQLAlchemy to scripts, then set up the app and DB objects so you can work with them\n",
    "  - Make classes for every table using SQLAlchemy\n",
    "  - Start serving up Jinja templates to make dynamic front-end pages\n",
    "  - Consider the bigger picture of how the user will experience your site.  How will they go from landing page to login to interactive parts to take advantage of its features?  The UX should be simple and smooth\n",
    "  - Consider how you display data from the API and how users will interact with it.  Will they add in more data?  Consider edge cases where users my encounter an issue and write code to avoid these situations\n",
    "  - Test, test, test!  There should be extensive unit tests and integration testing.  Potential employers will be looking for documentation on your testing\n",
    "  - You'll be done with this step once you have a simple, functional website that achieves the essential and basic functionality of what you've laid out in your proposal\n",
    "- Submit link to repo to your mentor.  They'll review your work, but you can keep working and move on to the next step."
   ]
  },
  {
   "cell_type": "markdown",
   "metadata": {},
   "source": [
    "## Step 5: Polishing Your App\n",
    "\n",
    "- Are there any stretch goals or features you want to add?  Now's the time to implement them.\n",
    "- Work on styling and layout to make sure it looks as polished as possible.  This will be part of your portfolio, and employers will be looking at this\n",
    "- Make sure the app is deployed to Railway or another BaaS platform\n",
    "- Push changes to GitHub\n",
    "- Submit link for mentor to review"
   ]
  },
  {
   "cell_type": "markdown",
   "metadata": {},
   "source": [
    "## Step 6: Documenting and Submission\n",
    "\n",
    "- Expand the README to include as much detail as possible (and necessary)\n",
    "  - These are essential pieces of documentation to include in a project\n",
    "  - They give anyone looking at the app or reading code a reference for how it works\n",
    "- Include the following details:\n",
    "  1. The title of your site and a link to where it's deployed\n",
    "  2. Describe what the website does\n",
    "  3. List features implemented and explain why you chose those features to implement\n",
    "  4. Walk someone thru the standard user flow for the website\n",
    "  5. Keep the API in there, and add notes if you have anything to say about the API\n",
    "  6. Identify the tech stack used to create the site\n",
    "  7. Include any other relevant details\n",
    "- Include the README in your repo\n",
    "- Take a minute to review the repo.  Is everything there?  Is it neatly organized?\n",
    "- Submit the full and final project to your mentor and discuss it with them on your next call"
   ]
  }
 ],
 "metadata": {
  "kernelspec": {
   "display_name": "Python 3.10.6 64-bit",
   "language": "python",
   "name": "python3"
  },
  "language_info": {
   "name": "python",
   "version": "3.10.6 (main, Aug 10 2022, 11:40:04) [GCC 11.3.0]"
  },
  "orig_nbformat": 4,
  "vscode": {
   "interpreter": {
    "hash": "916dbcbb3f70747c44a77c7bcd40155683ae19c65e1c03b4aa3499c5328201f1"
   }
  }
 },
 "nbformat": 4,
 "nbformat_minor": 2
}
